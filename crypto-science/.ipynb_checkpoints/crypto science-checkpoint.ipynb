{
 "cells": [
  {
   "cell_type": "code",
   "execution_count": 2,
   "metadata": {},
   "outputs": [],
   "source": [
    "import pandas as pd\n",
    "import urllib, json\n",
    "import matplotlib.pyplot as plt\n",
    "import numpy as np\n",
    "import matplotlib.mlab as mlab\n",
    "from scipy.stats import norm"
   ]
  },
  {
   "cell_type": "code",
   "execution_count": 12,
   "metadata": {},
   "outputs": [],
   "source": [
    "coinAcronym = \"BTC\"\n",
    "exchange = \"Binance\"\n",
    "tradeCurrency = \"USD\"\n",
    "timeFrame = \"30\""
   ]
  },
  {
   "cell_type": "code",
   "execution_count": 61,
   "metadata": {},
   "outputs": [],
   "source": [
    "coin = 'bitcoin'\n",
    "days = '5'\n",
    "interval='hourly'\n",
    "currency = 'usd'\n",
    "url = \"https://api.coingecko.com/api/v3/coins/%s/market_chart?vs_currency=%s&days=%s&interval=%s\" % (coin,currency,days,interval)\n",
    "data = json.loads(urllib.request.urlopen(url).read())"
   ]
  },
  {
   "cell_type": "code",
   "execution_count": 62,
   "metadata": {},
   "outputs": [
    {
     "data": {
      "text/html": [
       "<div>\n",
       "<style scoped>\n",
       "    .dataframe tbody tr th:only-of-type {\n",
       "        vertical-align: middle;\n",
       "    }\n",
       "\n",
       "    .dataframe tbody tr th {\n",
       "        vertical-align: top;\n",
       "    }\n",
       "\n",
       "    .dataframe thead th {\n",
       "        text-align: right;\n",
       "    }\n",
       "</style>\n",
       "<table border=\"1\" class=\"dataframe\">\n",
       "  <thead>\n",
       "    <tr style=\"text-align: right;\">\n",
       "      <th></th>\n",
       "      <th>Time</th>\n",
       "      <th>Price</th>\n",
       "      <th>Market Cap</th>\n",
       "      <th>Total Volume</th>\n",
       "    </tr>\n",
       "  </thead>\n",
       "  <tbody>\n",
       "    <tr>\n",
       "      <th>0</th>\n",
       "      <td>2020-11-11 09:02:45.380</td>\n",
       "      <td>15374.680668</td>\n",
       "      <td>2.850215e+11</td>\n",
       "      <td>2.122504e+10</td>\n",
       "    </tr>\n",
       "    <tr>\n",
       "      <th>1</th>\n",
       "      <td>2020-11-11 10:19:50.893</td>\n",
       "      <td>15444.652457</td>\n",
       "      <td>2.862403e+11</td>\n",
       "      <td>2.126960e+10</td>\n",
       "    </tr>\n",
       "    <tr>\n",
       "      <th>2</th>\n",
       "      <td>2020-11-11 11:13:56.303</td>\n",
       "      <td>15522.476391</td>\n",
       "      <td>2.877614e+11</td>\n",
       "      <td>2.146461e+10</td>\n",
       "    </tr>\n",
       "    <tr>\n",
       "      <th>3</th>\n",
       "      <td>2020-11-11 12:19:00.839</td>\n",
       "      <td>15542.025003</td>\n",
       "      <td>2.881542e+11</td>\n",
       "      <td>2.141572e+10</td>\n",
       "    </tr>\n",
       "    <tr>\n",
       "      <th>4</th>\n",
       "      <td>2020-11-11 13:14:39.837</td>\n",
       "      <td>15642.555351</td>\n",
       "      <td>2.899874e+11</td>\n",
       "      <td>2.139304e+10</td>\n",
       "    </tr>\n",
       "    <tr>\n",
       "      <th>...</th>\n",
       "      <td>...</td>\n",
       "      <td>...</td>\n",
       "      <td>...</td>\n",
       "      <td>...</td>\n",
       "    </tr>\n",
       "    <tr>\n",
       "      <th>115</th>\n",
       "      <td>2020-11-16 04:38:20.492</td>\n",
       "      <td>16017.926084</td>\n",
       "      <td>2.972039e+11</td>\n",
       "      <td>1.847251e+10</td>\n",
       "    </tr>\n",
       "    <tr>\n",
       "      <th>116</th>\n",
       "      <td>2020-11-16 05:11:03.099</td>\n",
       "      <td>16043.019366</td>\n",
       "      <td>2.968723e+11</td>\n",
       "      <td>1.852102e+10</td>\n",
       "    </tr>\n",
       "    <tr>\n",
       "      <th>117</th>\n",
       "      <td>2020-11-16 06:11:46.940</td>\n",
       "      <td>16125.166549</td>\n",
       "      <td>2.986268e+11</td>\n",
       "      <td>1.883165e+10</td>\n",
       "    </tr>\n",
       "    <tr>\n",
       "      <th>118</th>\n",
       "      <td>2020-11-16 07:04:11.753</td>\n",
       "      <td>16236.637709</td>\n",
       "      <td>3.009314e+11</td>\n",
       "      <td>1.934890e+10</td>\n",
       "    </tr>\n",
       "    <tr>\n",
       "      <th>119</th>\n",
       "      <td>2020-11-16 08:25:20.000</td>\n",
       "      <td>16252.479637</td>\n",
       "      <td>3.013918e+11</td>\n",
       "      <td>1.968746e+10</td>\n",
       "    </tr>\n",
       "  </tbody>\n",
       "</table>\n",
       "<p>120 rows × 4 columns</p>\n",
       "</div>"
      ],
      "text/plain": [
       "                       Time         Price    Market Cap  Total Volume\n",
       "0   2020-11-11 09:02:45.380  15374.680668  2.850215e+11  2.122504e+10\n",
       "1   2020-11-11 10:19:50.893  15444.652457  2.862403e+11  2.126960e+10\n",
       "2   2020-11-11 11:13:56.303  15522.476391  2.877614e+11  2.146461e+10\n",
       "3   2020-11-11 12:19:00.839  15542.025003  2.881542e+11  2.141572e+10\n",
       "4   2020-11-11 13:14:39.837  15642.555351  2.899874e+11  2.139304e+10\n",
       "..                      ...           ...           ...           ...\n",
       "115 2020-11-16 04:38:20.492  16017.926084  2.972039e+11  1.847251e+10\n",
       "116 2020-11-16 05:11:03.099  16043.019366  2.968723e+11  1.852102e+10\n",
       "117 2020-11-16 06:11:46.940  16125.166549  2.986268e+11  1.883165e+10\n",
       "118 2020-11-16 07:04:11.753  16236.637709  3.009314e+11  1.934890e+10\n",
       "119 2020-11-16 08:25:20.000  16252.479637  3.013918e+11  1.968746e+10\n",
       "\n",
       "[120 rows x 4 columns]"
      ]
     },
     "execution_count": 62,
     "metadata": {},
     "output_type": "execute_result"
    }
   ],
   "source": [
    "df = pd.concat([pd.DataFrame(data['prices']), pd.DataFrame(data['market_caps']), pd.DataFrame(data['total_volumes'])],axis=1)\n",
    "df.columns = [x for x in range(len(df.columns))]\n",
    "df = df.drop([2,4], axis=1)\n",
    "df.columns = ['Time', 'Price', \"Market Cap\", \"Total Volume\"]\n",
    "df['Time'] = pd.to_datetime(df['Time'].astype('int64'),unit='ms')\n",
    "df"
   ]
  },
  {
   "cell_type": "code",
   "execution_count": null,
   "metadata": {},
   "outputs": [],
   "source": []
  },
  {
   "cell_type": "code",
   "execution_count": 32,
   "metadata": {},
   "outputs": [
    {
     "data": {
      "text/plain": [
       "[1602979200000, 11365.814131026178]"
      ]
     },
     "execution_count": 32,
     "metadata": {},
     "output_type": "execute_result"
    }
   ],
   "source": []
  },
  {
   "cell_type": "code",
   "execution_count": null,
   "metadata": {},
   "outputs": [],
   "source": []
  }
 ],
 "metadata": {
  "kernelspec": {
   "display_name": "Python 3",
   "language": "python",
   "name": "python3"
  },
  "language_info": {
   "codemirror_mode": {
    "name": "ipython",
    "version": 3
   },
   "file_extension": ".py",
   "mimetype": "text/x-python",
   "name": "python",
   "nbconvert_exporter": "python",
   "pygments_lexer": "ipython3",
   "version": "3.8.5"
  }
 },
 "nbformat": 4,
 "nbformat_minor": 4
}
